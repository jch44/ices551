{
 "cells": [
  {
   "cell_type": "markdown",
   "metadata": {},
   "source": [
    "\n",
    "# Exemple PCA et t-SNE\n",
    "\n",
    "Analyse en Composantes Principales et T-NSE appliqué aux dataset des Iris.\n"
   ]
  },
  {
   "cell_type": "code",
   "execution_count": null,
   "metadata": {},
   "outputs": [],
   "source": [
    "import numpy as np\n",
    "from time import time\n",
    "\n",
    "from sklearn import decomposition\n",
    "from sklearn import datasets\n",
    "from sklearn.cluster import KMeans\n",
    "\n",
    "#Eviter les warnings\n",
    "import warnings\n",
    "warnings.filterwarnings(\"ignore\", category=FutureWarning)\n",
    "\n",
    "iris = datasets.load_iris()\n",
    "X = iris.data\n",
    "y = iris.target\n",
    "\n",
    "X[:10]"
   ]
  },
  {
   "cell_type": "code",
   "execution_count": null,
   "metadata": {},
   "outputs": [],
   "source": [
    "t0 = time()\n",
    "pca = decomposition.PCA(n_components=2)\n",
    "pca.fit(X)\n",
    "X = pca.transform(X)\n",
    "print(f\"Durée PCA : {round(time()-t0,4)} s.\")\n",
    "print(pca.explained_variance_ratio_)\n",
    "print(X[:10])"
   ]
  },
  {
   "cell_type": "code",
   "execution_count": null,
   "metadata": {},
   "outputs": [],
   "source": [
    "filtre_setosa = y==0\n",
    "filtre_versicolor = y==1\n",
    "filtre_virginica = y==2\n",
    "print(filtre_virginica)"
   ]
  },
  {
   "cell_type": "code",
   "execution_count": null,
   "metadata": {},
   "outputs": [],
   "source": [
    "import plotly.graph_objs as go  # Alternative plus moderne à matplotlib\n",
    "\n",
    "\n",
    "palette = ['navy','red','maroon']\n",
    "\n",
    "acp_setosa =go.Scatter(x=X[filtre_setosa,0],y=X[filtre_setosa,1],name='Setosa',\n",
    "                          text='Setosa',opacity=0.9,\n",
    "                          marker=dict(color=palette[0],size=5),mode='markers'\n",
    "                        )\n",
    "acp_versicolor =go.Scatter(x=X[filtre_versicolor,0],y=X[filtre_versicolor,1],name='Versicolor',\n",
    "                          text='Versicolor',opacity=0.9,\n",
    "                          marker=dict(color=palette[1],size=5),mode='markers'\n",
    "                        )\n",
    "acp_virginica =go.Scatter(x=X[filtre_virginica,0],y=X[filtre_virginica,1],name='Virginica',\n",
    "                          text='Virginica',opacity=0.9,\n",
    "                          marker=dict(color=palette[2],size=5),mode='markers'\n",
    "                        )\n",
    "\n",
    "layout = go.Layout(title=\"PCA - Iris\",titlefont=dict(size=40),autosize=False, width=1000,height=600)\n",
    "\n",
    "data=[acp_setosa,acp_versicolor,acp_virginica]\n",
    "fig = go.Figure(data=data, layout=layout)\n",
    "fig.show()"
   ]
  },
  {
   "cell_type": "markdown",
   "metadata": {},
   "source": [
    "## Exemple T-SNE\n",
    "T-SNE appliqué au dataset des Iris."
   ]
  },
  {
   "cell_type": "code",
   "execution_count": null,
   "metadata": {},
   "outputs": [],
   "source": [
    "from sklearn import manifold\n",
    "t0 = time()\n",
    "X = iris.data\n",
    "tsne = manifold.TSNE(n_components=2, verbose=0,perplexity=3, n_iter=1000)\n",
    "X_tsne = tsne.fit_transform(X)\n",
    "print(f\"Durée T-SNE : {round(time()-t0,4)} s.\")"
   ]
  },
  {
   "cell_type": "code",
   "execution_count": null,
   "metadata": {},
   "outputs": [],
   "source": [
    "import plotly.graph_objs as go  # Alternative plus moderne à matplotlib\n",
    "\n",
    "palette = ['navy','red','maroon']\n",
    "\n",
    "acp_setosa =go.Scatter(x=X_tsne[filtre_setosa,0],y=X_tsne[filtre_setosa,1],name='Setosa',\n",
    "                          text='Setosa',opacity=0.9,\n",
    "                          marker=dict(color=palette[0],size=5),mode='markers'\n",
    "                        )\n",
    "acp_versicolor =go.Scatter(x=X_tsne[filtre_versicolor,0],y=X_tsne[filtre_versicolor,1],name='Versicolor',\n",
    "                          text='Versicolor',opacity=0.9,\n",
    "                          marker=dict(color=palette[1],size=5),mode='markers'\n",
    "                        )\n",
    "acp_virginica =go.Scatter(x=X_tsne[filtre_virginica,0],y=X_tsne[filtre_virginica,1],name='Virginica',\n",
    "                          text='Virginica',opacity=0.9,\n",
    "                          marker=dict(color=palette[2],size=5),mode='markers'\n",
    "                        )\n",
    "\n",
    "layout = go.Layout(title=\"T-SNE - Iris\",titlefont=dict(size=40),autosize=False, width=1000,height=600)\n",
    "\n",
    "data=[acp_setosa,acp_versicolor,acp_virginica]\n",
    "fig = go.Figure(data=data, layout=layout)\n",
    "fig.show()"
   ]
  },
  {
   "cell_type": "markdown",
   "metadata": {},
   "source": [
    "## Exemple K-Means"
   ]
  },
  {
   "cell_type": "code",
   "execution_count": null,
   "metadata": {},
   "outputs": [],
   "source": [
    "\n",
    "# Liste pour stocker les inerties\n",
    "inertias = []\n",
    "\n",
    "# Appliquer KMeans pour différents nombres de clusters (de 1 à 10)\n",
    "for k in range(1, 11):\n",
    "    kmeans = KMeans(n_clusters=k, random_state=42)\n",
    "    kmeans.fit(X)\n",
    "    inertias.append(kmeans.inertia_)\n",
    "\n",
    "# Tracer l'Elbow Plot avec Plotly\n",
    "fig = go.Figure()\n",
    "\n",
    "fig.add_trace(go.Scatter(x=list(range(1, 11)), y=inertias, mode='lines+markers',\n",
    "                         line=dict(dash='dash', color='blue'), marker=dict(size=8)))\n",
    "\n",
    "fig.update_layout(\n",
    "    title=\"Elbow Plot pour déterminer le nombre optimal de clusters\",\n",
    "    xaxis_title=\"Nombre de clusters\",\n",
    "    yaxis_title=\"Inertie Intra\",\n",
    "    xaxis=dict(tickmode='linear'),\n",
    "    template=\"plotly_white\"\n",
    ")\n",
    "\n",
    "# Afficher la figure\n",
    "fig.show()"
   ]
  }
 ],
 "metadata": {
  "kernelspec": {
   "display_name": "Python 3",
   "language": "python",
   "name": "python3"
  },
  "language_info": {
   "codemirror_mode": {
    "name": "ipython",
    "version": 3
   },
   "file_extension": ".py",
   "mimetype": "text/x-python",
   "name": "python",
   "nbconvert_exporter": "python",
   "pygments_lexer": "ipython3",
   "version": "3.11.3"
  }
 },
 "nbformat": 4,
 "nbformat_minor": 2
}
