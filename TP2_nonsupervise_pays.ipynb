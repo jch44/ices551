{
 "cells": [
  {
   "cell_type": "markdown",
   "metadata": {},
   "source": [
    "# TP 2 : Réduction de dimensionnalité et clustering\n",
    "Importation des librairies"
   ]
  },
  {
   "cell_type": "code",
   "execution_count": null,
   "metadata": {},
   "outputs": [],
   "source": [
    "import numpy as np\n",
    "import pandas as pd\n",
    "from matplotlib import pyplot as plt\n",
    "import time\n",
    "\n",
    "# Vérification du dossier courant\n",
    "import os\n",
    "print(os.getcwd())\n",
    "\n",
    "np.set_printoptions(precision=3,suppress=True, threshold=5) # 3 décimales, pas de notation scientifique, affichage de 5 lignes\n",
    "print(f\"Numpy {np.__version__}, Pandas {pd.__version__}\")"
   ]
  },
  {
   "cell_type": "markdown",
   "metadata": {},
   "source": [
    "# 1/ Réduction des dimensionnalité : PCA et Clustering"
   ]
  },
  {
   "cell_type": "markdown",
   "metadata": {},
   "source": [
    "1.1 Charger le fichier world-data-2023 dans un dataframe. Afficher les 3 premières lignes. "
   ]
  },
  {
   "cell_type": "code",
   "execution_count": null,
   "metadata": {},
   "outputs": [],
   "source": []
  },
  {
   "cell_type": "markdown",
   "metadata": {},
   "source": [
    "1.2 Normaliser les données numériques, puis remplacer les valeurs Nan par la valeur 0, en utilisant la fonction np.isnan()."
   ]
  },
  {
   "cell_type": "code",
   "execution_count": 3,
   "metadata": {},
   "outputs": [],
   "source": [
    "from sklearn.preprocessing import StandardScaler\n"
   ]
  },
  {
   "cell_type": "markdown",
   "metadata": {},
   "source": [
    "1.3 Appliquer une PCA aux données normalisée, afin d'obtenir une réprésentation en deux dimensions.\n",
    "En utilisant time, mesure le temps d'éxécution."
   ]
  },
  {
   "cell_type": "code",
   "execution_count": null,
   "metadata": {},
   "outputs": [],
   "source": [
    "from sklearn import decomposition"
   ]
  },
  {
   "cell_type": "markdown",
   "metadata": {},
   "source": [
    "1.4 Afficher la variance expliquée par les deux axes de la PCA"
   ]
  },
  {
   "cell_type": "code",
   "execution_count": null,
   "metadata": {},
   "outputs": [],
   "source": []
  },
  {
   "cell_type": "markdown",
   "metadata": {},
   "source": [
    "1.5 Appliquer T-SNE à ces même données toujours en deux dimensions et en affichant le temps de traitement"
   ]
  },
  {
   "cell_type": "code",
   "execution_count": null,
   "metadata": {},
   "outputs": [],
   "source": [
    "from sklearn import manifold\n"
   ]
  },
  {
   "cell_type": "markdown",
   "metadata": {},
   "source": [
    "1.6 Créer deux diagrammes côte côte représentant les pays en 2D suivant les deux algorithmes. Ajouter les noms de pays à chaque point.\n",
    "Essayer plusieurs paramètres de t-nse pour obtenir un résultat interprétable "
   ]
  },
  {
   "cell_type": "code",
   "execution_count": null,
   "metadata": {},
   "outputs": [],
   "source": [
    "df_countries = pd.DataFrame() # Remplacer par les données chargées en 1.1\n",
    "countries_tsne = [] # Remplacer par le résultat de votre t-SNE\n",
    "countries_pca  = [] # Remplacer par le résultat de votre pca\n",
    "\n",
    "# Création du double graphique\n",
    "fig, axs = plt.subplots(1, 2, figsize=(24, 10))  # 1 ligne, 2 colonnes\n",
    "\n",
    "# Graphique TSNE\n",
    "axs[0].scatter(countries_tsne[:, 0], countries_tsne[:, 1], color='blue')\n",
    "# Ajout des labels\n",
    "for i, label in enumerate(df_countries.Pays): # Abréviation\n",
    "    axs[0].annotate(label, (countries_tsne[i, 0], countries_tsne[i, 1]), textcoords=\"offset points\", xytext=(0,10), fontsize = 8, ha='center')\n",
    "# Ajout des titres et des axes\n",
    "axs[0].set_title(\"Pays (TSNE)\")\n",
    "axs[0].set_xlabel(\"Axe X\")\n",
    "axs[0].set_ylabel(\"Axe Y\")\n",
    "axs[0].grid()\n",
    "\n",
    "# Graphique PCA\n",
    "axs[1].scatter(countries_pca[:, 0], countries_pca[:, 1], color='blue')\n",
    "# Ajout des labels\n",
    "for i, label in enumerate(df_countries.Pays): # Abréviation\n",
    "    axs[1].annotate(label, (countries_pca[i, 0], countries_pca[i, 1]), textcoords=\"offset points\", xytext=(0,10), fontsize = 8, ha='center')\n",
    "# Ajout des titres et des axes\n",
    "axs[1].set_title(\"Pays (PCA)\")\n",
    "axs[1].set_xlabel(\"Axe X\")\n",
    "axs[1].set_ylabel(\"Axe Y\")\n",
    "axs[1].grid()\n",
    "\n",
    "# Afficher le graphique\n",
    "plt.show()"
   ]
  },
  {
   "cell_type": "markdown",
   "metadata": {},
   "source": [
    "# 2. Application de K-Means"
   ]
  },
  {
   "cell_type": "markdown",
   "metadata": {},
   "source": [
    "2.1 Déterminer le nombre de cluster k-means optimal sur les données initiales normalisées, en traçant une courbe"
   ]
  },
  {
   "cell_type": "code",
   "execution_count": null,
   "metadata": {},
   "outputs": [],
   "source": [
    "from sklearn.cluster import KMeans\n"
   ]
  },
  {
   "cell_type": "markdown",
   "metadata": {},
   "source": [
    "2.2 Appliquer l'algorithme k-means aux données initiales normalisées, en utilisant le nombre de cluster optimal\n",
    "\n",
    "Afficher le temps de traitement"
   ]
  },
  {
   "cell_type": "code",
   "execution_count": null,
   "metadata": {},
   "outputs": [],
   "source": []
  },
  {
   "cell_type": "markdown",
   "metadata": {},
   "source": [
    "2.3 Afficher les pays pour chaque cluster"
   ]
  },
  {
   "cell_type": "code",
   "execution_count": null,
   "metadata": {},
   "outputs": [],
   "source": []
  },
  {
   "cell_type": "markdown",
   "metadata": {},
   "source": [
    "2.4 Tracer en 2D avec t-sne et pca les données avec une couleur par cluster k-means."
   ]
  },
  {
   "cell_type": "code",
   "execution_count": null,
   "metadata": {},
   "outputs": [],
   "source": [
    "df_countries = pd.DataFrame() # Remplacer par les données chargées en 1.1\n",
    "countries_tsne = [] # Remplacer par le résultat de votre t-SNE\n",
    "countries_pca  = [] # Remplacer par le résultat de votre pca\n",
    "clusters_kmeans = [] # Remplacer par le résultat de votre kmeans (numéro de cluster)\n",
    "\n",
    "# Liste de couleurs à utiliser pour les clusters (une couleur par cluster)\n",
    "colors = ['red', 'blue', 'green', 'purple', 'orange']\n",
    "\n",
    "# Création du double graphique\n",
    "fig, axs = plt.subplots(1, 2, figsize=(24, 10))  # 1 ligne, 2 colonnes\n",
    "\n",
    "# Graphique TSNE\n",
    "for cluster_value in np.unique(clusters_kmeans):\n",
    "    cluster_points = countries_tsne[clusters_kmeans == cluster_value]\n",
    "    axs[0].scatter(cluster_points[:, 0], cluster_points[:, 1], color=colors[cluster_value], label=f'Cluster {cluster_value}')\n",
    "# Ajout des labels\n",
    "for i, label in enumerate(df_countries.Pays):\n",
    "    axs[0].annotate(label, (countries_tsne[i, 0], countries_tsne[i, 1]), textcoords=\"offset points\", xytext=(0,10), fontsize = 8, ha='center')\n",
    "# Ajout des titres et des axes\n",
    "axs[0].set_title(\"Pays (TSNE)\")\n",
    "axs[0].set_xlabel(\"Axe X\")\n",
    "axs[0].set_ylabel(\"Axe Y\")\n",
    "axs[0].grid()\n",
    "\n",
    "# Graphique PCA\n",
    "for cluster_value in np.unique(clusters_kmeans):\n",
    "    cluster_points = countries_pca[clusters_kmeans == cluster_value]\n",
    "    axs[1].scatter(cluster_points[:, 0], cluster_points[:, 1], color=colors[cluster_value], label=f'Cluster {cluster_value}')\n",
    "# Ajout des labels\n",
    "for i, label in enumerate(df_countries.Pays):\n",
    "    axs[1].annotate(label, (countries_pca[i, 0], countries_pca[i, 1]), textcoords=\"offset points\", xytext=(0,10), fontsize = 8, ha='center')\n",
    "# Ajout des titres et des axes\n",
    "axs[1].set_title(\"Pays (PCA)\")\n",
    "axs[1].set_xlabel(\"Axe X\")\n",
    "axs[1].set_ylabel(\"Axe Y\")\n",
    "axs[1].grid()\n",
    "\n",
    "# Afficher le graphique\n",
    "plt.legend()\n",
    "plt.show()"
   ]
  },
  {
   "cell_type": "markdown",
   "metadata": {},
   "source": [
    "2.5 Réafficher La projection PCA en excluant les plus grands pays : China, United States, India, Russia\n",
    "\n",
    "Interpréter les axes X et Y de la PCA."
   ]
  },
  {
   "cell_type": "code",
   "execution_count": null,
   "metadata": {},
   "outputs": [],
   "source": [
    "df_countries = pd.DataFrame() # Remplacer par les données chargées en 1.1\n",
    "countries_pca  = [] # Remplacer par le résultat de votre pca\n",
    "clusters_kmeans = [] # Remplacer par le résultat de votre kmeans (numéro de cluster)\n",
    "\n",
    "excluded_countries = ['China','United States','India','Russia']\n",
    "countries_filtered = countries_pca[~df_countries.Pays.isin(excluded_countries)]\n",
    "plt.figure(figsize=(12, 10))\n",
    "for cluster_value in np.unique(clusters_kmeans):\n",
    "    cluster_points = countries_filtered[df_countries.loc[~df_countries.Pays.isin(excluded_countries),'cluster'] == cluster_value]\n",
    "    plt.scatter(cluster_points[:, 0], cluster_points[:, 1], color=colors[cluster_value-1], label=f'Cluster {cluster_value}')\n",
    "# Ajout des labels\n",
    "for i, label in enumerate(df_countries.loc[~df_countries.Pays.isin(excluded_countries),'Pays']):\n",
    "    plt.annotate(label, (countries_filtered[i, 0], countries_filtered[i, 1]), textcoords=\"offset points\", xytext=(0,10), fontsize = 8, ha='center')\n",
    "# Ajout des titres et des axes\n",
    "plt.title(\"Pays (PCA)\")\n",
    "plt.xlabel(\"Axe X\")\n",
    "plt.ylabel(\"Axe Y\")\n",
    "plt.grid()\n",
    "\n",
    "# Afficher le graphique\n",
    "plt.legend()\n",
    "plt.show()"
   ]
  },
  {
   "cell_type": "markdown",
   "metadata": {},
   "source": [
    "# 3. Application de CAH"
   ]
  },
  {
   "cell_type": "markdown",
   "metadata": {},
   "source": [
    "3.1 Importation des librairies"
   ]
  },
  {
   "cell_type": "code",
   "execution_count": 1,
   "metadata": {},
   "outputs": [],
   "source": [
    "from sklearn.metrics import accuracy_score # Calcul du score de bonnes réponses\n",
    "from scipy.spatial.distance import pdist # Fonction scipy de création de la CAH de calcul des distances\n",
    "from scipy.cluster.hierarchy import dendrogram, linkage, fcluster # Fonction scipy de création de la CAH"
   ]
  },
  {
   "cell_type": "markdown",
   "metadata": {},
   "source": [
    "3.2 Afficher la matrice de linkage des données de pays\n",
    "\n",
    "Mesurer le temps de traitement"
   ]
  },
  {
   "cell_type": "code",
   "execution_count": null,
   "metadata": {},
   "outputs": [],
   "source": []
  },
  {
   "cell_type": "markdown",
   "metadata": {},
   "source": [
    "3.3 Afficher horizontalement le dentogramme complet.\n",
    "\n",
    "Mesurer le temps de traitement"
   ]
  },
  {
   "cell_type": "code",
   "execution_count": null,
   "metadata": {},
   "outputs": [],
   "source": []
  },
  {
   "cell_type": "markdown",
   "metadata": {},
   "source": [
    "3.4 Afficher les 4 niveaux supérieurs du dentogramme"
   ]
  },
  {
   "cell_type": "code",
   "execution_count": null,
   "metadata": {},
   "outputs": [],
   "source": []
  },
  {
   "cell_type": "markdown",
   "metadata": {},
   "source": [
    "3.5 Trouver le nombre optimal de cluster CAH"
   ]
  },
  {
   "cell_type": "code",
   "execution_count": null,
   "metadata": {},
   "outputs": [],
   "source": []
  },
  {
   "cell_type": "markdown",
   "metadata": {},
   "source": [
    "3.6 Diviser selon le nombre optimal de cluster obtenu. Afficher la liste de pays de chaque cluster."
   ]
  },
  {
   "cell_type": "code",
   "execution_count": null,
   "metadata": {},
   "outputs": [],
   "source": []
  },
  {
   "cell_type": "markdown",
   "metadata": {},
   "source": [
    "3.7 Tracer en 2D avec t-sne et pca les données avec une couleur par cluster CAH."
   ]
  },
  {
   "cell_type": "code",
   "execution_count": null,
   "metadata": {},
   "outputs": [],
   "source": [
    "df_countries = pd.DataFrame() # Remplacer par les données chargées en 1.1\n",
    "countries_tsne = [] # Remplacer par le résultat de votre t-SNE\n",
    "countries_pca  = [] # Remplacer par le résultat de votre pca\n",
    "clusters_cah = [] # Remplacer par le résultat de votre CAH (numéro de cluster)\n",
    "\n",
    "# Liste de couleurs à utiliser pour les clusters (une couleur par cluster)\n",
    "colors = ['red', 'blue', 'green', 'purple', 'orange']\n",
    "\n",
    "# Création du double graphique\n",
    "fig, axs = plt.subplots(1, 2, figsize=(24, 10))  # 1 ligne, 2 colonnes\n",
    "\n",
    "# Graphique TSNE\n",
    "for cluster_value in np.unique(clusters_cah):\n",
    "    cluster_points = countries_tsne[clusters_cah == cluster_value]\n",
    "    axs[0].scatter(cluster_points[:, 0], cluster_points[:, 1], color=colors[cluster_value-1], label=f'Cluster {cluster_value}')\n",
    "# Ajout des labels\n",
    "for i, label in enumerate(df_countries.Pays):\n",
    "    axs[0].annotate(label, (countries_tsne[i, 0], countries_tsne[i, 1]), textcoords=\"offset points\", xytext=(0,10), fontsize = 8, ha='center')\n",
    "# Ajout des titres et des axes\n",
    "axs[0].set_title(\"Pays (TSNE)\")\n",
    "axs[0].set_xlabel(\"Axe X\")\n",
    "axs[0].set_ylabel(\"Axe Y\")\n",
    "axs[0].grid()\n",
    "\n",
    "# Graphique PCA\n",
    "for cluster_value in np.unique(clusters_cah):\n",
    "    cluster_points = countries_pca[clusters_cah == cluster_value]\n",
    "    axs[1].scatter(cluster_points[:, 0], cluster_points[:, 1], color=colors[cluster_value-1], label=f'Cluster {cluster_value}')\n",
    "# Ajout des labels\n",
    "for i, label in enumerate(df_countries.Pays):\n",
    "    axs[1].annotate(label, (countries_pca[i, 0], countries_pca[i, 1]), textcoords=\"offset points\", xytext=(0,10), fontsize = 8, ha='center')\n",
    "# Ajout des titres et des axes\n",
    "axs[1].set_title(\"Pays (PCA)\")\n",
    "axs[1].set_xlabel(\"Axe X\")\n",
    "axs[1].set_ylabel(\"Axe Y\")\n",
    "axs[1].grid()\n",
    "\n",
    "# Afficher le graphique\n",
    "plt.legend()\n",
    "plt.show()"
   ]
  },
  {
   "cell_type": "markdown",
   "metadata": {},
   "source": [
    "3.8 Afficher la projection PCA en retirant les plus grands pays : China, United States, India et Russia"
   ]
  },
  {
   "cell_type": "code",
   "execution_count": null,
   "metadata": {},
   "outputs": [],
   "source": [
    "df_countries = pd.DataFrame() # Remplacer par les données chargées en 1.1\n",
    "countries_pca  = [] # Remplacer par le résultat de votre pca\n",
    "clusters_cah = [] # Remplacer par le résultat de votre CAH (numéro de cluster)\n",
    "\n",
    "excluded_countries = ['China','United States','India','Russia']\n",
    "countries_filtered = countries_pca[~df_countries.Pays.isin(excluded_countries)]\n",
    "plt.figure(figsize=(12, 10))\n",
    "for cluster_value in np.unique(clusters_cah):\n",
    "    cluster_points = countries_filtered[df_countries.loc[~df_countries.Pays.isin(excluded_countries),'cluster'] == cluster_value]\n",
    "    plt.scatter(cluster_points[:, 0], cluster_points[:, 1], color=colors[cluster_value-1], label=f'Cluster {cluster_value}')\n",
    "# Ajout des labels\n",
    "for i, label in enumerate(df_countries.loc[~df_countries.Pays.isin(excluded_countries),'Pays']):\n",
    "    plt.annotate(label, (countries_filtered[i, 0], countries_filtered[i, 1]), textcoords=\"offset points\", xytext=(0,10), fontsize = 8, ha='center')\n",
    "# Ajout des titres et des axes\n",
    "plt.title(\"Pays (PCA)\")\n",
    "plt.xlabel(\"Axe X\")\n",
    "plt.ylabel(\"Axe Y\")\n",
    "plt.grid()\n",
    "\n",
    "# Afficher le graphique\n",
    "plt.legend()\n",
    "plt.show()"
   ]
  },
  {
   "cell_type": "markdown",
   "metadata": {},
   "source": [
    "3.9 Quels sont les avantages et inconvénient entre les différentes combinaisons de réduction de dimensionnalité (PCA, t-SNE) et de clustering (k-Means, CAH) ?"
   ]
  },
  {
   "cell_type": "markdown",
   "metadata": {},
   "source": [
    "<i>écrivez votre réponse ici</i>"
   ]
  }
 ],
 "metadata": {
  "kernelspec": {
   "display_name": "Python 3.9.6 64-bit",
   "language": "python",
   "name": "python3"
  },
  "language_info": {
   "codemirror_mode": {
    "name": "ipython",
    "version": 3
   },
   "file_extension": ".py",
   "mimetype": "text/x-python",
   "name": "python",
   "nbconvert_exporter": "python",
   "pygments_lexer": "ipython3",
   "version": "3.12.4"
  },
  "vscode": {
   "interpreter": {
    "hash": "f7976576504ac6c456dadd405d7477574ca2a64265ee4724cfbc25daae5f6d94"
   }
  }
 },
 "nbformat": 4,
 "nbformat_minor": 4
}
