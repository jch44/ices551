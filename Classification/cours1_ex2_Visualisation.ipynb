{
 "cells": [
  {
   "cell_type": "markdown",
   "metadata": {},
   "source": [
    "# Visualisation d'une classification par arbre de décision"
   ]
  },
  {
   "cell_type": "markdown",
   "metadata": {},
   "source": [
    "## Importation des librairies##\n",
    "Il faut installer graphviz pour faire tourner ce code.<br> \n",
    "https://graphviz.org/download/"
   ]
  },
  {
   "cell_type": "code",
   "execution_count": null,
   "metadata": {},
   "outputs": [],
   "source": [
    "%matplotlib inline\n",
    "import numpy as np\n",
    "import os\n",
    "from IPython.display import Image\n",
    "from sklearn.datasets import load_iris\n",
    "from sklearn.tree import DecisionTreeClassifier\n",
    "from sklearn.tree import export_graphviz\n",
    "from matplotlib.colors import ListedColormap\n",
    "import matplotlib.pyplot as plt"
   ]
  },
  {
   "cell_type": "markdown",
   "metadata": {},
   "source": [
    "## Chargement du Dataset Iris##"
   ]
  },
  {
   "cell_type": "code",
   "execution_count": null,
   "metadata": {},
   "outputs": [],
   "source": [
    "features,labels = load_iris(return_X_y = True) # Renvoie les données sous la forme de 2 tableaux numpy\n",
    "feature_names = ['Longueur Sépale (cm)', 'Largeur Sépale (cm)', 'Longueur Pétale (cm)', 'Largeur Pétale (cm)']\n",
    "target_names = ['setosa', 'versicolor', 'virginica']\n",
    "print(features[:3])\n",
    "print(labels[:3])"
   ]
  },
  {
   "cell_type": "markdown",
   "metadata": {},
   "source": [
    "## Apprentissage de l'arbre de décision ##"
   ]
  },
  {
   "cell_type": "code",
   "execution_count": null,
   "metadata": {},
   "outputs": [],
   "source": [
    "tree_clf = DecisionTreeClassifier(max_depth=3, random_state=42)\n",
    "tree_clf.fit(features, labels)"
   ]
  },
  {
   "cell_type": "markdown",
   "metadata": {},
   "source": [
    "## Creation d'un graphe au format \"dot\" avec graphviz##"
   ]
  },
  {
   "cell_type": "code",
   "execution_count": null,
   "metadata": {},
   "outputs": [],
   "source": [
    "export_graphviz(\n",
    "        tree_clf,\n",
    "        out_file=\"iris_tree.dot\",\n",
    "        feature_names=feature_names,\n",
    "        class_names=target_names,\n",
    "        rounded=True,\n",
    "        filled=True\n",
    "    )"
   ]
  },
  {
   "cell_type": "markdown",
   "metadata": {},
   "source": [
    "## Transformation du fichier dot en png, puis affichage"
   ]
  },
  {
   "cell_type": "code",
   "execution_count": null,
   "metadata": {},
   "outputs": [],
   "source": [
    "#appel à la fonction dot de graphwiz\n",
    "os.system(\"dot -Tpng iris_tree.dot -o iris_tree.png\")\n",
    "#Affichage de l'image créée\n",
    "Image(\"iris_tree.png\")"
   ]
  },
  {
   "cell_type": "code",
   "execution_count": null,
   "metadata": {},
   "outputs": [],
   "source": [
    "\n",
    "plt.rcParams['axes.labelsize'] = 14\n",
    "plt.rcParams['xtick.labelsize'] = 12\n",
    "plt.rcParams['ytick.labelsize'] = 12\n",
    "plt.figure(figsize=(16, 8))\n",
    "\n",
    "#Création de valeurs à partir des axes\n",
    "axes=[0, 7.5, 0, 3]\n",
    "x1s = np.linspace(axes[0], axes[1], 100)\n",
    "x2s = np.linspace(axes[2], axes[3], 100)\n",
    "x1, x2 = np.meshgrid(x1s, x2s)\n",
    "X_new = np.c_[x1.ravel(), x2.ravel(),x1.ravel(), x2.ravel()]\n",
    "\n",
    "#Exécution du modèle\n",
    "y_pred = tree_clf.predict(X_new).reshape(x1.shape)\n",
    "\n",
    "#Création d'une ColorMap et affichage des zones colorées\n",
    "custom_cmap = ListedColormap(['#fafab0','#9898ff','#a0faa0'])\n",
    "plt.contourf(x1, x2, y_pred, alpha=0.3, cmap=custom_cmap)\n",
    "\n",
    "# Affichage de chaque iris\n",
    "plt.plot(features[:, 2][labels==0], features[:, 3][labels==0], \"yo\", label=\"Iris-Setosa\")\n",
    "plt.plot(features[:, 2][labels==1], features[:, 3][labels==1], \"bs\", label=\"Iris-Versicolor\")\n",
    "plt.plot(features[:, 2][labels==2], features[:, 3][labels==2], \"g^\", label=\"Iris-Virginica\")\n",
    "\n",
    "# Affichage des lignes de séparations\n",
    "plt.plot([2.45, 2.45], [0, 3], \"k-\", linewidth=2)\n",
    "plt.plot([2.45, 7.5], [1.75, 1.75], \"k--\", linewidth=2)\n",
    "plt.plot([4.95, 4.95], [0, 1.75], \"k:\", linewidth=2)\n",
    "plt.plot([4.85, 4.85], [1.75, 3], \"k:\", linewidth=2)\n",
    "plt.text(1.40, 1.0, \"Profondeur 0\", fontsize=15)\n",
    "plt.text(3.2, 1.80, \"Profondeur 1\", fontsize=13)\n",
    "plt.text(4.05, 0.5, \"Profondeur 2\", fontsize=11)\n",
    "\n",
    "# Affichage des axes\n",
    "plt.axis(axes)\n",
    "plt.xlabel(\"Longeur Pétale\", fontsize=14)\n",
    "plt.ylabel(\"Largeur Pétale\", fontsize=14)\n",
    "plt.legend(loc=\"lower right\", fontsize=14)\n",
    "\n",
    "plt.show()"
   ]
  }
 ],
 "metadata": {
  "kernelspec": {
   "display_name": "Python 3",
   "language": "python",
   "name": "python3"
  },
  "language_info": {
   "codemirror_mode": {
    "name": "ipython",
    "version": 3
   },
   "file_extension": ".py",
   "mimetype": "text/x-python",
   "name": "python",
   "nbconvert_exporter": "python",
   "pygments_lexer": "ipython3",
   "version": "3.12.4"
  }
 },
 "nbformat": 4,
 "nbformat_minor": 4
}
