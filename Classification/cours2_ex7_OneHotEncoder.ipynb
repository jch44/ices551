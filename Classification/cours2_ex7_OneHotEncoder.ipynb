{
 "cells": [
  {
   "cell_type": "markdown",
   "metadata": {},
   "source": [
    "# Exemple OneHotEncoder\n",
    "Préparation des données catégoriques"
   ]
  },
  {
   "cell_type": "markdown",
   "metadata": {},
   "source": [
    "### Importation des librairies"
   ]
  },
  {
   "cell_type": "code",
   "execution_count": null,
   "metadata": {},
   "outputs": [],
   "source": [
    "import pandas as pd # Pandas\n",
    "import sklearn # ScikitLearn\n",
    "from sklearn import preprocessing #Préparation des données avec ScikitLearn\n",
    "print(f\"Pandas v.{pd.__version__} ok, ScikitLearn v.{sklearn.__version__} ok.\")"
   ]
  },
  {
   "cell_type": "markdown",
   "metadata": {},
   "source": [
    "### Création d'un jeu de données pour l'exemple "
   ]
  },
  {
   "cell_type": "code",
   "execution_count": null,
   "metadata": {},
   "outputs": [],
   "source": [
    "# Valeurs possibles\n",
    "valeurs_couleur = ['Rouge','Bleu','Vert','Noir']\n",
    "valeurs_taille = ['XS','S','M','L','XL']\n",
    "\n",
    "# Génération de deux listes aléatoires de 20 lignes\n",
    "import random\n",
    "random.seed(42) # Initialisation d'un random state\n",
    "liste_couleurs = [random.choice(valeurs_couleur) for _ in range(20)]\n",
    "liste_tailles = [random.choice(valeurs_taille) for _ in range(20)]\n",
    "liste_articles = list(zip(liste_couleurs,liste_tailles))\n",
    "print(liste_articles)"
   ]
  },
  {
   "cell_type": "markdown",
   "metadata": {},
   "source": [
    "### Création d'un Dataframe Pandas à partir des données générées"
   ]
  },
  {
   "cell_type": "code",
   "execution_count": null,
   "metadata": {},
   "outputs": [],
   "source": [
    "df_modeles = pd.DataFrame(liste_articles,columns=['Couleur','Taille'])\n",
    "df_modeles"
   ]
  },
  {
   "cell_type": "markdown",
   "metadata": {},
   "source": [
    " ### Opération de \"One Hot Encoding\""
   ]
  },
  {
   "cell_type": "code",
   "execution_count": null,
   "metadata": {},
   "outputs": [],
   "source": [
    "encoder = preprocessing.OneHotEncoder(sparse_output=False, dtype=int) # sparse output évite de renvoyer une matrice de base et non \"sparse\". Génération de valeurs entières\n",
    "encoder.fit(df_modeles) # Accepte le dataframe pandas, pas besoin de Numpy. Utilise fit, même si ce n'est pas vraiment un modèled.\n",
    "valeurs_encode = encoder.transform(df_modeles)  #Génération des données"
   ]
  },
  {
   "cell_type": "markdown",
   "metadata": {},
   "source": [
    "### Résultats de l'encodage"
   ]
  },
  {
   "cell_type": "code",
   "execution_count": null,
   "metadata": {},
   "outputs": [],
   "source": [
    "valeurs_encode"
   ]
  },
  {
   "cell_type": "markdown",
   "metadata": {},
   "source": [
    "### Nom des colonnes générées"
   ]
  },
  {
   "cell_type": "code",
   "execution_count": null,
   "metadata": {},
   "outputs": [],
   "source": [
    "encoder.get_feature_names_out()"
   ]
  },
  {
   "cell_type": "markdown",
   "metadata": {},
   "source": [
    "### Construction du nouveau dataframe"
   ]
  },
  {
   "cell_type": "code",
   "execution_count": null,
   "metadata": {},
   "outputs": [],
   "source": [
    "df_articles_encodes = pd.DataFrame(valeurs_encode, columns=encoder.get_feature_names_out())\n",
    "df_articles_encodes"
   ]
  }
 ],
 "metadata": {
  "kernelspec": {
   "display_name": "Python 3",
   "language": "python",
   "name": "python3"
  },
  "language_info": {
   "codemirror_mode": {
    "name": "ipython",
    "version": 3
   },
   "file_extension": ".py",
   "mimetype": "text/x-python",
   "name": "python",
   "nbconvert_exporter": "python",
   "pygments_lexer": "ipython3",
   "version": "3.12.4"
  }
 },
 "nbformat": 4,
 "nbformat_minor": 2
}
