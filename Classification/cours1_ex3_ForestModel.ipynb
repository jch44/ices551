{
 "cells": [
  {
   "cell_type": "markdown",
   "metadata": {},
   "source": [
    "# Modele de Foret et importance de Features"
   ]
  },
  {
   "cell_type": "markdown",
   "metadata": {},
   "source": [
    "## Importation des librairies"
   ]
  },
  {
   "cell_type": "code",
   "execution_count": 4,
   "metadata": {},
   "outputs": [],
   "source": [
    "from sklearn.datasets import load_iris\n",
    "from sklearn.ensemble import RandomForestClassifier\n",
    "import os\n",
    "import numpy as np\n",
    "from IPython.display import Image\n",
    "from sklearn.tree import export_graphviz"
   ]
  },
  {
   "cell_type": "markdown",
   "metadata": {},
   "source": [
    "## Importance des Features Iris Data Set"
   ]
  },
  {
   "cell_type": "code",
   "execution_count": null,
   "metadata": {},
   "outputs": [],
   "source": [
    "iris = load_iris()\n",
    "iris.feature_names=['Longueur Sépale (cm)', 'Largeur Sépale (cm)', 'Longueur Pétale (cm)', 'Largeur Pétale (cm)']\n",
    "rnd_clf = RandomForestClassifier(n_estimators=500, max_depth=4, n_jobs=-1, random_state=42)\n",
    "rnd_clf.fit(iris[\"data\"], iris[\"target\"])\n",
    "for name, score in zip(iris[\"feature_names\"], rnd_clf.feature_importances_):\n",
    "    print('%s: %i%%' %(name, int(score*100)))"
   ]
  },
  {
   "cell_type": "markdown",
   "metadata": {},
   "source": [
    "## Affichage d'un arbre du modèle de forêt  "
   ]
  },
  {
   "cell_type": "code",
   "execution_count": null,
   "metadata": {},
   "outputs": [],
   "source": [
    "\n",
    "export_graphviz(\n",
    "        rnd_clf.estimators_[np.random.randint(rnd_clf.n_estimators)],\n",
    "        out_file=\"iris_tree.dot\",\n",
    "        feature_names=iris.feature_names,\n",
    "        class_names=iris.target_names,\n",
    "        rounded=True,\n",
    "        filled=True\n",
    "    )\n",
    "#appel à la fonction dot de graphwiz\n",
    "os.system(\"dot -Tpng iris_tree.dot -o iris_tree.png\")\n",
    "#Affichage de l'image créée\n",
    "Image(\"iris_tree.png\")"
   ]
  }
 ],
 "metadata": {
  "kernelspec": {
   "display_name": "env-detectron",
   "language": "python",
   "name": "python3"
  },
  "language_info": {
   "codemirror_mode": {
    "name": "ipython",
    "version": 3
   },
   "file_extension": ".py",
   "mimetype": "text/x-python",
   "name": "python",
   "nbconvert_exporter": "python",
   "pygments_lexer": "ipython3",
   "version": "3.12.4"
  },
  "metadata": {
   "interpreter": {
    "hash": "8a7f431efea175097450e475ba2074c6e83edf516fa688f7dc4e8ab4342121c4"
   }
  },
  "vscode": {
   "interpreter": {
    "hash": "a8d35cb7a85295fc8c292f94c96693af10b2c132a6c87ec4f5f2ddce4e9b927e"
   }
  }
 },
 "nbformat": 4,
 "nbformat_minor": 4
}
