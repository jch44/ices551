{
 "cells": [
  {
   "cell_type": "markdown",
   "metadata": {},
   "source": [
    "# Exemple de Classification par vote"
   ]
  },
  {
   "cell_type": "markdown",
   "metadata": {},
   "source": [
    "## Importation des librairies"
   ]
  },
  {
   "cell_type": "code",
   "execution_count": 1,
   "metadata": {},
   "outputs": [],
   "source": [
    "# Graphes\n",
    "%matplotlib inline\n",
    "import matplotlib.pyplot as plt\n",
    "\n",
    "# Data preprocessing\n",
    "from sklearn.model_selection import train_test_split\n",
    "from sklearn.preprocessing import StandardScaler\n",
    "from sklearn.pipeline import make_pipeline\n",
    "\n",
    "# Machine learning\n",
    "from sklearn.tree import DecisionTreeClassifier\n",
    "from sklearn.svm import SVC\n",
    "from sklearn.linear_model import LogisticRegression\n",
    "from sklearn.naive_bayes import GaussianNB\n",
    "from sklearn.linear_model import Perceptron\n",
    "from sklearn.metrics import accuracy_score\n",
    "\n",
    "# ensemble\n",
    "from sklearn.ensemble import VotingClassifier\n",
    "from sklearn.ensemble import StackingClassifier\n",
    "\n",
    "#Eviter les warnings\n",
    "import warnings\n",
    "warnings.filterwarnings(\"ignore\", category=DeprecationWarning)"
   ]
  },
  {
   "cell_type": "markdown",
   "metadata": {},
   "source": [
    "# Génération et Affichage des données Breast Cancer\n",
    "Séparation entre train et test"
   ]
  },
  {
   "cell_type": "code",
   "execution_count": null,
   "metadata": {},
   "outputs": [],
   "source": [
    "from sklearn.datasets import load_breast_cancer\n",
    "dataset = load_breast_cancer()\n",
    "print(dataset.DESCR)"
   ]
  },
  {
   "cell_type": "code",
   "execution_count": null,
   "metadata": {},
   "outputs": [],
   "source": [
    "X, y = load_breast_cancer(return_X_y=True)\n",
    "X_train, X_test, y_train, y_test = train_test_split(X, y, random_state=42)\n",
    "plt.scatter(X[:,0],X[:,1], c = y,cmap='plasma')\n",
    "plt.xlabel(\"radius\")\n",
    "plt.ylabel(\"texture\")\n",
    "plt.title('Breast Cancer')\n",
    "plt.show()"
   ]
  },
  {
   "cell_type": "markdown",
   "metadata": {},
   "source": [
    "## Création de 3 modèles différents et d'un système de vote sur les même données"
   ]
  },
  {
   "cell_type": "code",
   "execution_count": 4,
   "metadata": {},
   "outputs": [],
   "source": [
    "# La régression logistique et le Support Vector nécessitent une normlisation préalable\n",
    "\n",
    "log_clf = make_pipeline(StandardScaler(), LogisticRegression(random_state=42,max_iter=1000))\n",
    "tree_clf = DecisionTreeClassifier(max_depth=5)\n",
    "bayes_clf = GaussianNB()\n",
    "svr_clf =  make_pipeline(StandardScaler(), SVC(probability=True, random_state=42))\n",
    "perc_clf = make_pipeline(StandardScaler(), Perceptron(random_state=42))\n",
    "\n",
    "dict_models = {\n",
    "    'logistic': log_clf,\n",
    "    'tree': tree_clf,\n",
    "    'Naive bayes': bayes_clf,\n",
    "    'support vector': svr_clf,\n",
    "    'perceptron': perc_clf\n",
    "    }\n",
    "\n",
    "estimators=[(name, model) for name, model in dict_models.items()]\n",
    "voting_clf = VotingClassifier(estimators=estimators, voting='hard')"
   ]
  },
  {
   "cell_type": "markdown",
   "metadata": {},
   "source": [
    "## Mise en oeuvre des 5 modèles et du système de vote 'hard'"
   ]
  },
  {
   "cell_type": "code",
   "execution_count": null,
   "metadata": {},
   "outputs": [],
   "source": [
    "dict_models['Voting Classifier Hard'] = voting_clf\n",
    "dict_scores={}\n",
    "for name, clf in dict_models.items(): #(log_clf, tree_clf, bayes_clf, svr_clf,perc_clf, voting_clf):\n",
    "    clf.fit(X_train, y_train)\n",
    "    y_pred = clf.predict(X_test)\n",
    "    dict_scores[name]=round(accuracy_score(y_test, y_pred)*100,3)\n",
    "dict_scores"
   ]
  },
  {
   "cell_type": "markdown",
   "metadata": {},
   "source": [
    "## Mise en oeuvre du vote \"soft\""
   ]
  },
  {
   "cell_type": "code",
   "execution_count": null,
   "metadata": {},
   "outputs": [],
   "source": [
    "voting_soft_clf = VotingClassifier(estimators=estimators[:4], voting='soft')\n",
    "voting_soft_clf.fit(X_train, y_train)\n",
    "y_pred = voting_soft_clf.predict(X_test)\n",
    "dict_scores['Voting Classifier Soft']=round(accuracy_score(y_test, y_pred)*100, 3)\n",
    "dict_scores"
   ]
  },
  {
   "cell_type": "markdown",
   "metadata": {},
   "source": [
    "## Stacking"
   ]
  },
  {
   "cell_type": "code",
   "execution_count": null,
   "metadata": {},
   "outputs": [],
   "source": [
    "estimators = [\n",
    "    ('lr', log_clf),\n",
    "    ('tf', tree_clf),\n",
    "    ('by', bayes_clf),\n",
    "    ('sv', svr_clf),\n",
    "    ('pe', perc_clf)\n",
    "]\n",
    "clf = StackingClassifier(\n",
    "    estimators=estimators, final_estimator= LogisticRegression()\n",
    ")\n",
    "round(clf.fit(X_train, y_train).score(X_test, y_test)*100,3) #alternative à prediction plus calcul du score"
   ]
  }
 ],
 "metadata": {
  "kernelspec": {
   "display_name": "Python 3.9.6 64-bit",
   "language": "python",
   "name": "python3"
  },
  "language_info": {
   "codemirror_mode": {
    "name": "ipython",
    "version": 3
   },
   "file_extension": ".py",
   "mimetype": "text/x-python",
   "name": "python",
   "nbconvert_exporter": "python",
   "pygments_lexer": "ipython3",
   "version": "3.12.4"
  },
  "metadata": {
   "interpreter": {
    "hash": "8a7f431efea175097450e475ba2074c6e83edf516fa688f7dc4e8ab4342121c4"
   }
  },
  "vscode": {
   "interpreter": {
    "hash": "f7976576504ac6c456dadd405d7477574ca2a64265ee4724cfbc25daae5f6d94"
   }
  }
 },
 "nbformat": 4,
 "nbformat_minor": 4
}
