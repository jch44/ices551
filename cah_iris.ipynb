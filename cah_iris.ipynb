{
 "cells": [
  {
   "cell_type": "markdown",
   "metadata": {},
   "source": [
    "# Exemple de Classification Ascendante Hiérarchique"
   ]
  },
  {
   "cell_type": "markdown",
   "metadata": {},
   "source": [
    "## Importation des librairies"
   ]
  },
  {
   "cell_type": "code",
   "execution_count": null,
   "metadata": {},
   "outputs": [],
   "source": [
    "import numpy as np\n",
    "import pandas as pd\n",
    "from sklearn.datasets import load_iris # Chargement des données Iris\n",
    "from sklearn.preprocessing import StandardScaler # Normalisation des données\n",
    "from sklearn.metrics import accuracy_score # Calcul du score de bonnes réponses\n",
    "from scipy.spatial.distance import pdist # Fonction scipy de création de la CAH de calcul des distances\n",
    "from scipy.cluster.hierarchy import dendrogram, linkage, fcluster # Fonction scipy de création de la CAH\n",
    "import matplotlib.pyplot as plt # Visualisation\n",
    "\n",
    "np.set_printoptions(precision=3,suppress=True, threshold=5) # 3 décimales, pas de notation scientifique, affichage de 5 lignes\n",
    "print(f\"Numpy {np.__version__}, Pandas {pd.__version__}\")"
   ]
  },
  {
   "cell_type": "markdown",
   "metadata": {},
   "source": [
    "## Chargement et normalisation des données Iris"
   ]
  },
  {
   "cell_type": "code",
   "execution_count": null,
   "metadata": {},
   "outputs": [],
   "source": [
    "# Charger le dataset Iris\n",
    "iris = load_iris()\n",
    "X = iris.data\n",
    "y = iris.target\n",
    "\n",
    "# Standardiser les données\n",
    "scaler = StandardScaler()\n",
    "X_scaled = scaler.fit_transform(X)\n",
    "print(X_scaled)"
   ]
  },
  {
   "cell_type": "markdown",
   "metadata": {},
   "source": [
    "## Calcul de la matrice de liaison pour la CAH\n",
    "https://docs.scipy.org/doc/scipy/reference/generated/scipy.cluster.hierarchy.linkage.html#scipy.cluster.hierarchy.linkage"
   ]
  },
  {
   "cell_type": "code",
   "execution_count": 5,
   "metadata": {},
   "outputs": [],
   "source": [
    "Z = linkage(X_scaled,metric='euclidean', method='ward')\n",
    "df_linkage = pd.DataFrame(Z, columns=['Noeud 1','Noeud 2','distance','nombre d\\'exemple'])\n",
    "df_linkage[['Noeud 1','Noeud 2','nombre d\\'exemple']] = df_linkage[['Noeud 1','Noeud 2','nombre d\\'exemple']].astype(int)\n",
    "df_linkage.to_excel('df_linkage.xlsx',index=False)"
   ]
  },
  {
   "cell_type": "markdown",
   "metadata": {},
   "source": [
    "## Affichage du dentogramme"
   ]
  },
  {
   "cell_type": "code",
   "execution_count": null,
   "metadata": {},
   "outputs": [],
   "source": [
    "plt.figure(figsize=(16, 20))\n",
    "dendrogram(Z, labels=iris.target_names[y], leaf_font_size=10, orientation='right')\n",
    "plt.title(\"Dendrogramme de la CAH\")\n",
    "plt.xlabel(\"Index des échantillons\")\n",
    "plt.ylabel(\"Distance\")\n",
    "plt.show()"
   ]
  },
  {
   "cell_type": "markdown",
   "metadata": {},
   "source": [
    "### Limiter l'affichage de l'arbre"
   ]
  },
  {
   "cell_type": "code",
   "execution_count": null,
   "metadata": {},
   "outputs": [],
   "source": [
    "dendrogram(Z, leaf_font_size=10, truncate_mode=\"level\", p=3)\n",
    "plt.title(\"Dendrogramme limité à 3 niveaux\")\n",
    "plt.xlabel(\"Index des échantillons\")\n",
    "plt.ylabel(\"Distance\")\n",
    "plt.show()"
   ]
  },
  {
   "cell_type": "markdown",
   "metadata": {},
   "source": [
    "## Nombre optimal de cluster"
   ]
  },
  {
   "cell_type": "code",
   "execution_count": null,
   "metadata": {},
   "outputs": [],
   "source": [
    "# Afficher le diagramme de croissance de l'inertie (distance de fusion) divisée par l'inertie totale\n",
    "total_inertia = Z[-10:, 2].sum()\n",
    "last = Z[-10:, 2]\n",
    "inertia_loss = np.flip(last, 0)/total_inertia\n",
    "# print(inertia_loss)\n",
    "explained_inertia = [0]\n",
    "for nb_cluster in range(2,11):\n",
    "    explained_inertia += [explained_inertia[-1] + inertia_loss[nb_cluster-2]]\n",
    "print(explained_inertia)\n",
    "fig, axs = plt.subplots(1, 2, figsize=(20, 7))  # 1 ligne, 2 colonnes\n",
    "\n",
    "axs[0].bar(range(2,len(inertia_loss)+2), inertia_loss)\n",
    "axs[0].set_title(\"Perte d'inertie\")\n",
    "axs[0].set_xlabel(\"Nombre de clusters\")\n",
    "axs[0].set_xticks(range(2, 12, 1))\n",
    "axs[0].set_ylabel(\"Perte d'Inertie\")\n",
    "\n",
    "# Deuxième graphique : plot pour l'inertie expliquée\n",
    "axs[1].plot(range(1,len(explained_inertia)+1), explained_inertia, marker='o')\n",
    "axs[1].set_title(\"Choix du nombre de clusters\")\n",
    "axs[1].set_xlabel(\"Nombre de clusters\")\n",
    "axs[1].set_xticks(range(1, 11, 1))\n",
    "axs[1].set_ylabel(\"Inertie expliquée\")\n",
    "\n",
    "# Affichage des deux graphiques\n",
    "plt.tight_layout()  # Pour ajuster l'espacement entre les sous-graphiques\n",
    "plt.show()\n"
   ]
  },
  {
   "cell_type": "markdown",
   "metadata": {},
   "source": [
    "## Division en 3 clusters"
   ]
  },
  {
   "cell_type": "code",
   "execution_count": null,
   "metadata": {},
   "outputs": [],
   "source": [
    "# Diviser les données en 3 clusters\n",
    "clusters = fcluster(Z, 3, criterion='maxclust')\n",
    "\n",
    "# Afficher les clusters\n",
    "print(f\"Clusters assignés pour chaque échantillon : {clusters}. Précision: {round(accuracy_score(y+1,clusters)*100,1)}%\")\n"
   ]
  },
  {
   "cell_type": "markdown",
   "metadata": {},
   "source": [
    "### Méthode Single"
   ]
  },
  {
   "cell_type": "code",
   "execution_count": null,
   "metadata": {},
   "outputs": [],
   "source": [
    "plt.figure(figsize=(20, 7))\n",
    "Z = linkage(X_scaled,metric='euclidean', method='single')\n",
    "dendrogram(Z, labels=iris.target_names[y], leaf_font_size=10)\n",
    "plt.title(\"Dendrogramme de la CAH\")\n",
    "plt.xlabel(\"Index des échantillons\")\n",
    "plt.ylabel(\"Distance\")\n",
    "plt.show()"
   ]
  },
  {
   "cell_type": "markdown",
   "metadata": {},
   "source": [
    "### Distance non euclidienne\n",
    "https://docs.scipy.org/doc/scipy/reference/generated/scipy.spatial.distance.pdist.html#scipy.spatial.distance.pdist"
   ]
  },
  {
   "cell_type": "code",
   "execution_count": null,
   "metadata": {},
   "outputs": [],
   "source": [
    "fig, axs = plt.subplots(1, 2, figsize=(20, 7))  # 1 ligne, 2 colonnes\n",
    "type_distance = np.random.choice(['braycurtis', 'canberra', 'chebyshev', 'cityblock', 'correlation', 'cosine',\n",
    "                  'hamming', 'jaccard','mahalanobis', 'matching', 'minkowski', 'seuclidean', 'sqeuclidean'\n",
    "            ])\n",
    "# ignoré : 'dice','jensenshannon','kulczynski1', 'sokalsneath', 'sokalmichener','rogerstanimoto', 'russellrao', 'yule'\n",
    "\n",
    "Z_c = linkage(X_scaled,metric=type_distance, method='complete')\n",
    "dendrogram(Z_c, labels=iris.target_names[y], leaf_font_size=10, truncate_mode=\"level\", p=3, ax=axs[0])\n",
    "axs[0].set_title(\"Dendrogramme \" + type_distance)\n",
    "axs[0].set_xlabel(\"Index des échantillons\")\n",
    "axs[0].set_ylabel(\"Distance\")\n",
    "\n",
    "Z_e = linkage(X_scaled,metric='euclidean', method='complete')\n",
    "dendrogram(Z_e, labels=iris.target_names[y], leaf_font_size=10, truncate_mode=\"level\", p=3, ax=axs[1])\n",
    "axs[1].set_title(\"Dendrogramme Euclidien\")\n",
    "axs[1].set_xlabel(\"Index des échantillons\")\n",
    "axs[1].set_ylabel(\"Distance\")\n",
    "\n",
    "plt.show()"
   ]
  }
 ],
 "metadata": {
  "kernelspec": {
   "display_name": "Python 3",
   "language": "python",
   "name": "python3"
  },
  "language_info": {
   "codemirror_mode": {
    "name": "ipython",
    "version": 3
   },
   "file_extension": ".py",
   "mimetype": "text/x-python",
   "name": "python",
   "nbconvert_exporter": "python",
   "pygments_lexer": "ipython3",
   "version": "3.12.4"
  }
 },
 "nbformat": 4,
 "nbformat_minor": 2
}
